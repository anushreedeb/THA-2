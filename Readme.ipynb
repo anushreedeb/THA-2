{
  "nbformat": 4,
  "nbformat_minor": 0,
  "metadata": {
    "colab": {
      "name": "Readme.ipynb",
      "version": "0.3.2",
      "provenance": []
    },
    "kernelspec": {
      "name": "python3",
      "display_name": "Python 3"
    }
  },
  "cells": [
    {
      "metadata": {
        "id": "Zj_IMgxY5Rbj",
        "colab_type": "text"
      },
      "cell_type": "markdown",
      "source": [
        "The Census, DHS and IHSDS files contain information on various state names in India. The objective was to list and find the names of common states in India and those names have been merged into a table. \n",
        "\n",
        "Codenames within the specific files have been listed: \n",
        "\n",
        "Census: \"State\" refers to the list of states in India \n",
        "IHDS: \"STATEID\" refers to the list of states in India \n",
        "DHS: \"hv024\" refers to the list of states in India \n",
        "\n",
        "For my final project, I would like to look at how different datasets paint different pictures and scenarios of the country and how that impacts decision making. For example, differences in how housing shortage and affordability is measured will impact housing and infrastructure policies. Additionally, ease of dataset accessibility is another crucial factor in replicability and understanding.  "
      ]
    }
  ]
}